{
  "nbformat": 4,
  "nbformat_minor": 0,
  "metadata": {
    "colab": {
      "name": "palindrome.ipynb",
      "provenance": [],
      "authorship_tag": "ABX9TyPapUVHK6wDg9/2ep18vQ51",
      "include_colab_link": true
    },
    "kernelspec": {
      "name": "python3",
      "display_name": "Python 3"
    },
    "language_info": {
      "name": "python"
    }
  },
  "cells": [
    {
      "cell_type": "markdown",
      "metadata": {
        "id": "view-in-github",
        "colab_type": "text"
      },
      "source": [
        "<a href=\"https://colab.research.google.com/github/maukin/python/blob/main/palindrome.ipynb\" target=\"_parent\"><img src=\"https://colab.research.google.com/assets/colab-badge.svg\" alt=\"Open In Colab\"/></a>"
      ]
    },
    {
      "cell_type": "code",
      "metadata": {
        "colab": {
          "base_uri": "https://localhost:8080/"
        },
        "id": "JIq9RRBnR98u",
        "outputId": "9e9749fe-0ef9-4d2e-81ea-dbcaa555aaa7"
      },
      "source": [
        "from collections import deque\n",
        "\n",
        "def palindrome(word): #функция проверки палиндрома\n",
        "  dq = deque(word) \n",
        "  while len(dq) > 1:\n",
        "    if dq.popleft() != dq.pop(): #крайний левый != крайнему правому\n",
        "      return False\n",
        "  return True\n",
        "\n",
        "# palindrome ('ass')\n",
        "# palindrome ('assa')\n",
        "\n",
        "\n",
        "def palindrome2(word2): #функция проверки палиндрома короче\n",
        "  return word2 == word2[::-1]\n",
        "\n",
        "palindrome2 ('ass')\n",
        "# palindrome2 ('assa')"
      ],
      "execution_count": 8,
      "outputs": [
        {
          "output_type": "execute_result",
          "data": {
            "text/plain": [
              "False"
            ]
          },
          "metadata": {},
          "execution_count": 8
        }
      ]
    }
  ]
}