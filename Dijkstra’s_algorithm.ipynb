{
  "nbformat": 4,
  "nbformat_minor": 0,
  "metadata": {
    "colab": {
      "name": "Dijkstra’s algorithm.ipynb",
      "provenance": [],
      "authorship_tag": "ABX9TyP/9b8njvSWenzMOqLKYKSd",
      "include_colab_link": true
    },
    "kernelspec": {
      "name": "python3",
      "display_name": "Python 3"
    },
    "language_info": {
      "name": "python"
    }
  },
  "cells": [
    {
      "cell_type": "markdown",
      "metadata": {
        "id": "view-in-github",
        "colab_type": "text"
      },
      "source": [
        "<a href=\"https://colab.research.google.com/github/maukin/python/blob/main/Dijkstra%E2%80%99s_algorithm.ipynb\" target=\"_parent\"><img src=\"https://colab.research.google.com/assets/colab-badge.svg\" alt=\"Open In Colab\"/></a>"
      ]
    },
    {
      "cell_type": "code",
      "metadata": {
        "id": "KcGFbJVOzZT1"
      },
      "source": [
        "# the graph\n",
        "graph [\"start\"] = {}\n",
        "graph [\"start\"][\"a\"] = 6\n",
        "graph [\"start\"][\"b\"] = 2\n",
        "\n",
        "\"\"\"\n",
        "print (graph[\"start\"].keys())\n",
        "print(graph[\"start\"][\"a\"])\n",
        "print(graph[\"start\"][\"b\"])\n",
        "\"\"\"\n",
        "\n",
        "graph[\"a\"] = {}\n",
        "graph[\"a\"][\"fin\"] = 1\n",
        "graph[\"b\"] = {}\n",
        "graph[\"b\"][\"a\"] = 3\n",
        "graph[\"b\"][\"fin\"] = 5\n",
        "graph[\"fin\"] = {} \n",
        "\n",
        "infinity = float(\"inf\")\n",
        "\n",
        "# the costs table\n",
        "costs = {}\n",
        "costs[\"a\"] = 6\n",
        "costs[\"b\"] = 2\n",
        "costs[\"fin\"] = infinity\n",
        "\n",
        "# the parents table\n",
        "parents = {}\n",
        "parents[\"a\"] = \"start\"\n",
        "parents[\"b\"] = \"start\"\n",
        "parents[\"fin\"] = None\n",
        "\n",
        "processed = []\n",
        "\n",
        "def find_lowest_cost_nodes(costs):\n",
        "  lowest_cost = float(\"inf\")\n",
        "  lowest_cost_node = None\n",
        "  for node in costs:\n",
        "    cost = costs[node]\n",
        "    if cost < lowest_cost and node not in processed:\n",
        "      lowest_cost = cost\n",
        "      lowest_cost_node = node \n",
        "  return lowest_cost_node\n",
        "\n",
        "node = find_lowest_cost_nodes(costs)\n",
        "\n",
        "while node is not None:\n",
        "  cost = costs[node]\n",
        "  neighbors = graph[node]\n",
        "  for n in neighbors.keys():\n",
        "    new_cost = cost + neighbors[n]\n",
        "    if costs[n] > new_cost:\n",
        "      costs[n] = new_cost\n",
        "      parents[n] = node\n",
        "  processed.append(node)\n",
        "  node = find_lowest_cost_nodes(costs)\n",
        "\n",
        "print(\"Cost from the start to each node:\")\n",
        "print(costs)"
      ],
      "execution_count": 8,
      "outputs": []
    }
  ]
}