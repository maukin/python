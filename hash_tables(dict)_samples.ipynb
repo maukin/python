{
  "nbformat": 4,
  "nbformat_minor": 0,
  "metadata": {
    "colab": {
      "name": "hash_tables(dict) - samples.ipynb",
      "provenance": [],
      "authorship_tag": "ABX9TyN2/QspWNRoLPnpfTPtEkpI",
      "include_colab_link": true
    },
    "kernelspec": {
      "name": "python3",
      "display_name": "Python 3"
    },
    "language_info": {
      "name": "python"
    }
  },
  "cells": [
    {
      "cell_type": "markdown",
      "metadata": {
        "id": "view-in-github",
        "colab_type": "text"
      },
      "source": [
        "<a href=\"https://colab.research.google.com/github/maukin/python/blob/main/hash_tables(dict)_samples.ipynb\" target=\"_parent\"><img src=\"https://colab.research.google.com/assets/colab-badge.svg\" alt=\"Open In Colab\"/></a>"
      ]
    },
    {
      "cell_type": "code",
      "metadata": {
        "colab": {
          "base_uri": "https://localhost:8080/"
        },
        "id": "5D4-FzQ3hL4z",
        "outputId": "cb806943-0426-4e50-d929-b359af91c6d8"
      },
      "source": [
        "\"\"\"\n",
        "book = dict()\n",
        "\n",
        "book[\"apple\"] = 0.67\n",
        "book[\"milk\"] = 1.49\n",
        "book[\"avocado\"] = 1,67\n",
        "\n",
        "print(book)\n",
        "print(book[\"avocado\"])\n",
        "\n",
        "\"\"\"\n",
        "\n",
        "\n",
        "voted = {}\n",
        "value = voted.get(\"tom\") #проверяет, есть ли в словаре такое значение\n",
        "print (value)\n",
        "\n",
        "def check_voter(name):\n",
        "  if voted.get(name):\n",
        "    print(\"kick him!\")\n",
        "  else:\n",
        "    voted[name] = True\n",
        "    print(\"ok\")\n",
        "\n",
        "check_voter(\"tom\")\n",
        "check_voter(\"mike\")\n",
        "check_voter(\"tom\")"
      ],
      "execution_count": 9,
      "outputs": [
        {
          "output_type": "stream",
          "text": [
            "None\n",
            "ok\n",
            "ok\n",
            "kick him!\n"
          ],
          "name": "stdout"
        }
      ]
    }
  ]
}