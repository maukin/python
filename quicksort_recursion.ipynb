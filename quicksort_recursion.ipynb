{
  "nbformat": 4,
  "nbformat_minor": 0,
  "metadata": {
    "colab": {
      "name": "quicksort_recursion.ipynb",
      "provenance": [],
      "authorship_tag": "ABX9TyPbMnDK+NQwQBU6coTSUtVG",
      "include_colab_link": true
    },
    "kernelspec": {
      "name": "python3",
      "display_name": "Python 3"
    },
    "language_info": {
      "name": "python"
    }
  },
  "cells": [
    {
      "cell_type": "markdown",
      "metadata": {
        "id": "view-in-github",
        "colab_type": "text"
      },
      "source": [
        "<a href=\"https://colab.research.google.com/github/maukin/python/blob/main/quicksort_recursion.ipynb\" target=\"_parent\"><img src=\"https://colab.research.google.com/assets/colab-badge.svg\" alt=\"Open In Colab\"/></a>"
      ]
    },
    {
      "cell_type": "code",
      "metadata": {
        "colab": {
          "base_uri": "https://localhost:8080/"
        },
        "id": "wFH1rFKHVnBz",
        "outputId": "0388a02d-8758-4289-fcb4-011660dc2312"
      },
      "source": [
        "def quicksort(array):\n",
        "  if len(array) < 2:\n",
        "    return array\n",
        "  else:\n",
        "    pivot = array[0] #опорный элемент\n",
        "    less = [i for i in array[1:] if i <= pivot] #массив чисел, которые меньше\n",
        "    greater = [i for i in array[1:] if i > pivot] #массив чисел, которые больше\n",
        "    return quicksort(less) + [pivot] + quicksort(greater)\n",
        "\n",
        "print (quicksort([5, 4, 88, 11, 43, 0]))"
      ],
      "execution_count": 6,
      "outputs": [
        {
          "output_type": "stream",
          "text": [
            "[0, 4, 5, 11, 43, 88]\n"
          ],
          "name": "stdout"
        }
      ]
    }
  ]
}