{
  "nbformat": 4,
  "nbformat_minor": 0,
  "metadata": {
    "colab": {
      "name": "graph_search.ipynb",
      "provenance": [],
      "authorship_tag": "ABX9TyMdl0dc79Ymskup3cGGPDp8",
      "include_colab_link": true
    },
    "kernelspec": {
      "name": "python3",
      "display_name": "Python 3"
    },
    "language_info": {
      "name": "python"
    }
  },
  "cells": [
    {
      "cell_type": "markdown",
      "metadata": {
        "id": "view-in-github",
        "colab_type": "text"
      },
      "source": [
        "<a href=\"https://colab.research.google.com/github/maukin/python/blob/main/graph_search.ipynb\" target=\"_parent\"><img src=\"https://colab.research.google.com/assets/colab-badge.svg\" alt=\"Open In Colab\"/></a>"
      ]
    },
    {
      "cell_type": "code",
      "metadata": {
        "colab": {
          "base_uri": "https://localhost:8080/"
        },
        "id": "gvMDC6LutMIo",
        "outputId": "81cd5478-df93-42d3-9686-518111fe64a4"
      },
      "source": [
        "from collections import deque #для двусторонней очереди\n",
        "\n",
        "graph = {}\n",
        "graph [\"you\"] = [\"alice\", \"bob\", \"claire\"]\n",
        "graph [\"bob\"] = [\"anuj\", \"peggy\"]\n",
        "graph [\"alice\"] = [\"peggy\"]\n",
        "graph [\"claire\"] = [\"thom\", \"jonny\"]\n",
        "graph [\"anuj\"] = []\n",
        "graph [\"peggy\"] = []\n",
        "graph [\"thom\"] = []\n",
        "graph [\"jonny\"] = []\n",
        "\n",
        "def person_is_seller(name):\n",
        "  return name[-1] == 'm' #например проверяет последнюю букву имени продавца\n",
        "\n",
        "\n",
        "def search(name):\n",
        "  search_queue = deque() #создание новой очереди\n",
        "  search_queue += graph[\"you\"] #все соседи добавляются в очередь поиска\n",
        "  searched = [] #отслеживание уже проверенных людей\n",
        "  while search_queue: #пока очередь не пуста\n",
        "    person = search_queue.popleft() #из очереди извлекается первый человек\n",
        "    if not person in searched: #если человек ещё не проверялся\n",
        "      if person_is_seller(person): #проверка, является ли человек продавцом\n",
        "        print(person + \" is a seller\")\n",
        "        return True\n",
        "      else:\n",
        "        search_queue += graph[person] #если не является, то все его друзья добавлябтся в очередь поиска\n",
        "        searched.append(person) #добавление проверенного человека в список проверенных\n",
        "  return False #не найдено ни одного продавца\n",
        "\n",
        "search(\"you\")\n"
      ],
      "execution_count": 12,
      "outputs": [
        {
          "output_type": "stream",
          "text": [
            "thom is a seller\n"
          ],
          "name": "stdout"
        },
        {
          "output_type": "execute_result",
          "data": {
            "text/plain": [
              "True"
            ]
          },
          "metadata": {
            "tags": []
          },
          "execution_count": 12
        }
      ]
    },
    {
      "cell_type": "code",
      "metadata": {
        "id": "QeiprPcDtmqc"
      },
      "source": [
        ""
      ],
      "execution_count": null,
      "outputs": []
    }
  ]
}