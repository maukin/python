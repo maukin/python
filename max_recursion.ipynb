{
  "nbformat": 4,
  "nbformat_minor": 0,
  "metadata": {
    "colab": {
      "name": "max_recursion.ipynb",
      "provenance": [],
      "authorship_tag": "ABX9TyOMM6UOy94k7wEMKfxPh0sM",
      "include_colab_link": true
    },
    "kernelspec": {
      "name": "python3",
      "display_name": "Python 3"
    },
    "language_info": {
      "name": "python"
    }
  },
  "cells": [
    {
      "cell_type": "markdown",
      "metadata": {
        "id": "view-in-github",
        "colab_type": "text"
      },
      "source": [
        "<a href=\"https://colab.research.google.com/github/maukin/python/blob/main/max_recursion.ipynb\" target=\"_parent\"><img src=\"https://colab.research.google.com/assets/colab-badge.svg\" alt=\"Open In Colab\"/></a>"
      ]
    },
    {
      "cell_type": "code",
      "metadata": {
        "colab": {
          "base_uri": "https://localhost:8080/"
        },
        "id": "FdQnOqn_QnWk",
        "outputId": "781910f3-9ee6-4d47-db72-f13a48fcb118"
      },
      "source": [
        "def max(list):\n",
        "  if len(list) == 2:\n",
        "    return list[0] if list[0] > list[1] else list[1]\n",
        "  sub_max = max(list[1:])\n",
        "  return list[0] if list[0] > sub_max else sub_max\n",
        "\n",
        "print(max([1,7,5]))"
      ],
      "execution_count": 4,
      "outputs": [
        {
          "output_type": "stream",
          "text": [
            "7\n"
          ],
          "name": "stdout"
        }
      ]
    }
  ]
}